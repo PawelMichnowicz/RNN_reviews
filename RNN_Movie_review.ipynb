{
  "nbformat": 4,
  "nbformat_minor": 0,
  "metadata": {
    "colab": {
      "name": "RNN Movie review.ipynb",
      "provenance": []
    },
    "kernelspec": {
      "name": "python3",
      "display_name": "Python 3"
    },
    "language_info": {
      "name": "python"
    }
  },
  "cells": [
    {
      "cell_type": "code",
      "metadata": {
        "id": "UNWlmGMduDUz",
        "colab": {
          "base_uri": "https://localhost:8080/"
        },
        "outputId": "cf52888b-c0c9-438f-f970-cba85d24df7e"
      },
      "source": [
        "!gdown --id https://drive.google.com/file/d/1rWHzaX9a62XVl6YlQvdv0LhnX7Y16jhD\n"
      ],
      "execution_count": 8,
      "outputs": [
        {
          "output_type": "stream",
          "text": [
            "Permission denied: https://drive.google.com/uc?id=https://drive.google.com/file/d/1rWHzaX9a62XVl6YlQvdv0LhnX7Y16jhD\n",
            "Maybe you need to change permission over 'Anyone with the link'?\n"
          ],
          "name": "stdout"
        }
      ]
    },
    {
      "cell_type": "code",
      "metadata": {
        "id": "XIA9UBF4bNfb"
      },
      "source": [
        "# find the share link of the file/folder on Google Drive\n",
        "file_share_link = \"https://drive.google.com/file/d/1rWHzaX9a62XVl6YlQvdv0LhnX7Y16jhD\"\n",
        "\n",
        "# extract the ID of the file\n",
        "file_id = file_share_link[file_share_link.find(\"=\") + 1:]\n",
        "\n",
        "# append the id to this REST command\n",
        "file_download_link = \"https://docs.google.com/uc?export=download&id=\" + file_id "
      ],
      "execution_count": 9,
      "outputs": []
    },
    {
      "cell_type": "code",
      "metadata": {
        "colab": {
          "base_uri": "https://localhost:8080/",
          "height": 35
        },
        "id": "CdcfRVoYcAEb",
        "outputId": "00c2928a-0adc-4521-c466-b190d69c45a4"
      },
      "source": [
        ""
      ],
      "execution_count": 11,
      "outputs": [
        {
          "output_type": "execute_result",
          "data": {
            "application/vnd.google.colaboratory.intrinsic+json": {
              "type": "string"
            },
            "text/plain": [
              "'https://docs.google.com/uc?export=download&id=https://drive.google.com/file/d/1rWHzaX9a62XVl6YlQvdv0LhnX7Y16jhD'"
            ]
          },
          "metadata": {},
          "execution_count": 11
        }
      ]
    },
    {
      "cell_type": "code",
      "metadata": {
        "colab": {
          "base_uri": "https://localhost:8080/"
        },
        "id": "80bVDTX0Zj6a",
        "outputId": "0fbaba1d-c3d5-407f-b3cb-d79450938ae0"
      },
      "source": [
        "from google.colab import drive\n",
        "\n",
        "drive.mount('/content/gdrive') # dostęp do gdrive"
      ],
      "execution_count": 14,
      "outputs": [
        {
          "output_type": "stream",
          "text": [
            "Mounted at /content/gdrive\n"
          ],
          "name": "stdout"
        }
      ]
    }
  ]
}